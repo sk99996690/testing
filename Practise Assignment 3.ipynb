{
 "cells": [
  {
   "cell_type": "markdown",
   "metadata": {},
   "source": [
    "# Q1:"
   ]
  },
  {
   "cell_type": "markdown",
   "metadata": {},
   "source": [
    "Think of at least three kinds of your favorite pizza. Store these pizza names in a list, and then use a for loop to print the name of each pizza."
   ]
  },
  {
   "cell_type": "code",
   "execution_count": 4,
   "metadata": {},
   "outputs": [
    {
     "name": "stdout",
     "output_type": "stream",
     "text": [
      "chicken tikka\n",
      "chicken fajita\n",
      "afghani tikka\n"
     ]
    }
   ],
   "source": [
    "flavours=[\"chicken tikka\",\"chicken fajita\",\"afghani tikka\"]\n",
    "for i in flavours:\n",
    "    print(i)"
   ]
  },
  {
   "cell_type": "markdown",
   "metadata": {},
   "source": [
    "# Q2"
   ]
  },
  {
   "cell_type": "markdown",
   "metadata": {},
   "source": [
    "Start with your last question , Modify your for loop to print a sentence using the name of the pizza\n",
    "instead of printing just the name of the pizza. For each pizza you should\n",
    "have one line of output containing a simple statement like I like pepperoni\n",
    "pizza."
   ]
  },
  {
   "cell_type": "code",
   "execution_count": 5,
   "metadata": {},
   "outputs": [
    {
     "name": "stdout",
     "output_type": "stream",
     "text": [
      "I like  chicken tikka\n",
      "I like  chicken fajita\n",
      "I like  afghani tikka\n"
     ]
    }
   ],
   "source": [
    "flavours=[\"chicken tikka\",\"chicken fajita\",\"afghani tikka\"]\n",
    "for i in flavours:\n",
    "    print(\"I like \",i)"
   ]
  },
  {
   "cell_type": "markdown",
   "metadata": {},
   "source": [
    "# Q3:"
   ]
  },
  {
   "cell_type": "markdown",
   "metadata": {},
   "source": [
    "Use a for loop to print the numbers from 1 to 20,\n",
    "inclusive."
   ]
  },
  {
   "cell_type": "code",
   "execution_count": 7,
   "metadata": {},
   "outputs": [
    {
     "name": "stdout",
     "output_type": "stream",
     "text": [
      "1\n",
      "2\n",
      "3\n",
      "4\n",
      "5\n",
      "6\n",
      "7\n",
      "8\n",
      "9\n",
      "10\n",
      "11\n",
      "12\n",
      "13\n",
      "14\n",
      "15\n",
      "16\n",
      "17\n",
      "18\n",
      "19\n",
      "20\n"
     ]
    }
   ],
   "source": [
    "for i in range(1,21):\n",
    "    print(i);"
   ]
  },
  {
   "cell_type": "markdown",
   "metadata": {},
   "source": [
    "# Q4:"
   ]
  },
  {
   "cell_type": "markdown",
   "metadata": {},
   "source": [
    "Use the third argument of the range() function to make a list\n",
    "of the odd numbers from 1 to 20. Use a for loop to print each number."
   ]
  },
  {
   "cell_type": "code",
   "execution_count": 8,
   "metadata": {},
   "outputs": [
    {
     "name": "stdout",
     "output_type": "stream",
     "text": [
      "1\n",
      "3\n",
      "5\n",
      "7\n",
      "9\n",
      "11\n",
      "13\n",
      "15\n",
      "17\n",
      "19\n"
     ]
    }
   ],
   "source": [
    "for i in range(1,21,2):\n",
    "    print(i);"
   ]
  },
  {
   "cell_type": "markdown",
   "metadata": {},
   "source": [
    "# Q5:"
   ]
  },
  {
   "cell_type": "markdown",
   "metadata": {},
   "source": [
    "Make a list of the multiples of 3 from 3 to 30. Use a for loop to\n",
    "print the numbers in your list."
   ]
  },
  {
   "cell_type": "code",
   "execution_count": 11,
   "metadata": {},
   "outputs": [
    {
     "name": "stdout",
     "output_type": "stream",
     "text": [
      "[3, 6, 9, 12, 15, 18, 21, 24, 27, 30]\n"
     ]
    }
   ],
   "source": [
    "list_no=[1,2,3,4,5,6,7,8,9,10]\n",
    "list_multiple=[]\n",
    "for i in list_no:\n",
    "    list_multiple.append(i*3)\n",
    "print(list_multiple)"
   ]
  },
  {
   "cell_type": "markdown",
   "metadata": {},
   "source": [
    "# Q6:"
   ]
  },
  {
   "cell_type": "markdown",
   "metadata": {},
   "source": [
    "A number raised to the third power is called a cube. For example,\n",
    "the cube of 2 is written as 2**3 in Python. Make a list of the first 10 cubes (that\n",
    "is, the cube of each integer from 1 through 10), and use a for loop to print out\n",
    "the value of each cube"
   ]
  },
  {
   "cell_type": "code",
   "execution_count": 13,
   "metadata": {},
   "outputs": [
    {
     "name": "stdout",
     "output_type": "stream",
     "text": [
      "[1, 8, 27, 64, 125, 216, 343, 512, 729, 1000]\n"
     ]
    }
   ],
   "source": [
    "number=[1,2,3,4,5,6,7,8,9,10]\n",
    "cube=[]\n",
    "for i in number:\n",
    "    cube.append(i**3)\n",
    "print(cube)"
   ]
  },
  {
   "cell_type": "markdown",
   "metadata": {},
   "source": [
    "# Q7:"
   ]
  },
  {
   "cell_type": "markdown",
   "metadata": {},
   "source": [
    "###### Make a python program that conatains your nine favourite dishes in a list called foods.\n",
    "\n",
    "###### Print the message, The first three items in the list are:. \n",
    "###### Then use a slice to print the first three items from that program’s list.\n",
    "\n",
    "###### Print the message, Three items from the middle of the list are:\n",
    "###### Use a slice to print three items from the middle of the list.\n",
    "\n",
    "###### Print the message, The last three items in the list are:\n",
    "###### Use a slice to print the last three items in the list."
   ]
  },
  {
   "cell_type": "code",
   "execution_count": 14,
   "metadata": {},
   "outputs": [
    {
     "name": "stdout",
     "output_type": "stream",
     "text": [
      "The first three items in the list are:\n",
      "biryani\n",
      "karahi\n",
      "pizza\n"
     ]
    }
   ],
   "source": [
    "favourite=[\"biryani\",\"karahi\",\"pizza\",\"burger\",\"pasta\",\"spaghatti\",\"cake\",\"macronis\",\"french fries\"]\n",
    "print(\"The first three items in the list are:\")\n",
    "for i in favourite[:3]:\n",
    "    print(i)"
   ]
  },
  {
   "cell_type": "code",
   "execution_count": 15,
   "metadata": {},
   "outputs": [
    {
     "name": "stdout",
     "output_type": "stream",
     "text": [
      "The three dishes from the middle of the list are:\n",
      "burger\n",
      "pasta\n",
      "spaghatti\n"
     ]
    }
   ],
   "source": [
    "print(\"The three dishes from the middle of the list are:\")\n",
    "for i in favourite[3:6]:\n",
    "    print(i)"
   ]
  },
  {
   "cell_type": "code",
   "execution_count": 16,
   "metadata": {},
   "outputs": [
    {
     "name": "stdout",
     "output_type": "stream",
     "text": [
      "The last three items in the list are:\n",
      "cake\n",
      "macronis\n",
      "french fries\n"
     ]
    }
   ],
   "source": [
    "print(\"The last three items in the list are:\")\n",
    "for i in favourite[6:9]:\n",
    "    print(i)"
   ]
  },
  {
   "cell_type": "markdown",
   "metadata": {},
   "source": [
    "# Q8:"
   ]
  },
  {
   "cell_type": "markdown",
   "metadata": {},
   "source": [
    "### Start with your program from your last Question8.\n",
    "###### Make a copy of the list of foods, and call it friend_foods.\n",
    "###### Then, do the following:\n",
    "######    Add a new dish to the original list.\n",
    "######    Add a different dish to the list friend_foodss.\n",
    "######    Prove that you have two separate lists. \n",
    "###### Print the message, My favorite pizzas are: and then use a for loop to print the first list. \n",
    "###### Print the message,\n",
    "###### My friend’s favorite foods are:, and then use a for loop to print the second list.\n",
    "    \n",
    "##### NOTE: Make sure each new dish is stored in the appropriate list."
   ]
  },
  {
   "cell_type": "code",
   "execution_count": 17,
   "metadata": {},
   "outputs": [
    {
     "name": "stdout",
     "output_type": "stream",
     "text": [
      "['biryani', 'karahi', 'pizza', 'burger', 'pasta', 'spaghatti', 'cake', 'macronis', 'french fries']\n"
     ]
    }
   ],
   "source": [
    "friend_food=favourite.copy()\n",
    "print(friend_food)"
   ]
  },
  {
   "cell_type": "code",
   "execution_count": 19,
   "metadata": {},
   "outputs": [
    {
     "name": "stdout",
     "output_type": "stream",
     "text": [
      "['biryani', 'karahi', 'pizza', 'burger', 'pasta', 'spaghatti', 'cake', 'macronis', 'french fries', 'pulao']\n"
     ]
    }
   ],
   "source": [
    "favourite.append(\"pulao\")\n",
    "print(favourite)"
   ]
  },
  {
   "cell_type": "code",
   "execution_count": 20,
   "metadata": {},
   "outputs": [
    {
     "name": "stdout",
     "output_type": "stream",
     "text": [
      "['biryani', 'karahi', 'pizza', 'burger', 'pasta', 'spaghatti', 'cake', 'macronis', 'french fries', 'broast']\n"
     ]
    }
   ],
   "source": [
    "friend_food.append(\"broast\")\n",
    "print(friend_food)"
   ]
  },
  {
   "cell_type": "code",
   "execution_count": 24,
   "metadata": {},
   "outputs": [
    {
     "name": "stdout",
     "output_type": "stream",
     "text": [
      "My friend’s favorite foods are:\n",
      "biryani\n",
      "karahi\n",
      "pizza\n",
      "burger\n",
      "pasta\n",
      "spaghatti\n",
      "cake\n",
      "macronis\n",
      "french fries\n",
      "broast\n"
     ]
    }
   ],
   "source": [
    "print(\"My friend’s favorite foods are:\")\n",
    "for i in friend_food:\n",
    "    print(i)"
   ]
  },
  {
   "cell_type": "markdown",
   "metadata": {},
   "source": [
    "# Q9:"
   ]
  },
  {
   "cell_type": "markdown",
   "metadata": {},
   "source": [
    "Take a user input from console line.Store it in a variable called Alien_color.\n",
    "\n",
    "If the alien’s color is red, print a statement that the player just earned 5 points for shooting the alien.\n",
    "\n",
    "If the alien’s color isn’t green, print a statement that the player just earned 10 points.\n",
    "\n",
    "If the alien's color isn't red or green , print a statment :, Alien is no more....."
   ]
  },
  {
   "cell_type": "code",
   "execution_count": 27,
   "metadata": {},
   "outputs": [
    {
     "name": "stdout",
     "output_type": "stream",
     "text": [
      "Enter colorred\n",
      "the player just earned 5 points for shooting the alien.\n"
     ]
    }
   ],
   "source": [
    "alien_color=input(\"Enter color\")\n",
    "if alien_color==\"red\":\n",
    "    print(\"the player just earned 5 points for shooting the alien.\")\n",
    "elif alien_Color==\"green\":\n",
    "    print(\"the player just earned 10 points\")\n",
    "else:\n",
    "    print(\"Alien is no more.....\")"
   ]
  },
  {
   "cell_type": "markdown",
   "metadata": {},
   "source": [
    "# Q10:"
   ]
  },
  {
   "cell_type": "markdown",
   "metadata": {},
   "source": [
    "Write an if-elif-else chain that determines a person’s\n",
    "stage of life. Set a value for the variable age, and then:\n",
    "    \n",
    "•\t If the person is less than 2 years old, print a message that the person is a baby.\n",
    "\n",
    "•\t If the person is at least 2 years old but less than 4, print a message that the person is a toddler.\n",
    "\n",
    "•\t If the person is at least 4 years old but less than 13, print a message that the person is a kid.\n",
    "\n",
    "•\t If the person is at least 13 years old but less than 20, print a message that the person is a teenager.\n",
    "\n",
    "•\t If the person is at least 20 years old but less than 65, print a message that the person is an adult.\n",
    "\n",
    "•\t If the person is age 65 or older, print a message that the person is an elder."
   ]
  },
  {
   "cell_type": "code",
   "execution_count": 40,
   "metadata": {},
   "outputs": [
    {
     "name": "stdout",
     "output_type": "stream",
     "text": [
      "Enter age:20\n",
      " the person is an adult\n"
     ]
    }
   ],
   "source": [
    "age=int(input(\"Enter age:\"))\n",
    "if age<2:\n",
    "    print(\"the person is a baby.\")\n",
    "elif age>=2 and age <4:\n",
    "    print(\" the person is a toddler.\")\n",
    "elif age>=4 and age<13:\n",
    "    print(\" the person is a kid\")\n",
    "elif age>=13 and age<20:\n",
    "    print(\" the person is a teenager\")\n",
    "elif age>=20 and age<65:\n",
    "    print(\" the person is an adult\")\n",
    "elif age>=65:\n",
    "    print(\"person is an elder\")\n",
    "else:\n",
    "    print(\"invalid age\")"
   ]
  },
  {
   "cell_type": "markdown",
   "metadata": {},
   "source": [
    "# Q11:"
   ]
  },
  {
   "cell_type": "markdown",
   "metadata": {},
   "source": [
    "Do the following to create a program that simulates how websites ensure that everyone has a unique username.\n",
    "\n",
    "•\t Make a list of five or more usernames called current_users.\n",
    "\n",
    "•\t Make another list of five usernames called new_users. \n",
    "Make sure one or two of the new usernames are also in the current_users list.\n",
    "\n",
    "•\t Loop through the new_users list to see if each new username has already been used. \n",
    "If it has, print a message that the person will need to enter a new username. \n",
    "If a username has not been used, print a message saying that the username is available.\n",
    "\n",
    "•\t Make sure your comparison is case insensitive. If 'John' has been used, 'JOHN' should not be accepted."
   ]
  },
  {
   "cell_type": "code",
   "execution_count": 43,
   "metadata": {},
   "outputs": [
    {
     "name": "stdout",
     "output_type": "stream",
     "text": [
      "ali username is available\n",
      "yousuf username is available\n",
      "shakeel username has been already used,You will need to enter a new username\n",
      "hamza username is available\n",
      "hasin username is available\n"
     ]
    }
   ],
   "source": [
    "current_users=[\"shakeel\",\"yoza\",\"sharjeel\",\"arsalan\"]\n",
    "new_users=[\"ali\",\"yousuf\",\"shakeel\",\"hamza\",\"hasin\"]\n",
    "for i in new_users:\n",
    "    if i in current_users:\n",
    "        print(f\"{i} username has been already used,You will need to enter a new username\")\n",
    "    else:\n",
    "        print(f\"{i} username is available\")"
   ]
  },
  {
   "cell_type": "markdown",
   "metadata": {},
   "source": [
    "# Q12:"
   ]
  },
  {
   "cell_type": "markdown",
   "metadata": {},
   "source": [
    "Use a dictionary to store information about a person you know.\n",
    "Store their first name, last name, age, and the city in which they live. \n",
    "You should have keys such as first_name, last_name, age, and city. \n",
    "Print each piece of information stored in your dictionary"
   ]
  },
  {
   "cell_type": "code",
   "execution_count": 61,
   "metadata": {},
   "outputs": [
    {
     "name": "stdout",
     "output_type": "stream",
     "text": [
      " the key is name and the value is shakeel\n",
      " the key is l_name and the value is khalid\n",
      " the key is age and the value is 24\n",
      " the key is city and the value is karachi\n"
     ]
    }
   ],
   "source": [
    "data={\"name\":\"shakeel\",\"l_name\":\"khalid\",\"age\":24,\"city\":\"karachi\"}\n",
    "for k,v in data.items():\n",
    "    print(f\" the key is {k} and the value is {v}\")\n"
   ]
  },
  {
   "cell_type": "code",
   "execution_count": 46,
   "metadata": {},
   "outputs": [
    {
     "name": "stdout",
     "output_type": "stream",
     "text": [
      "the key is name\n",
      "the key is l_name\n",
      "the key is age\n",
      "the key is city\n"
     ]
    }
   ],
   "source": [
    "for k in data.keys():\n",
    "    print(f\"the key is {k}\")"
   ]
  },
  {
   "cell_type": "code",
   "execution_count": 47,
   "metadata": {},
   "outputs": [
    {
     "name": "stdout",
     "output_type": "stream",
     "text": [
      "the value is shakeel\n",
      "the value is khalid\n",
      "the value is 24\n",
      "the value is karachi\n"
     ]
    }
   ],
   "source": [
    "for v in data.values():\n",
    "    print(f\"the value is {v}\")"
   ]
  },
  {
   "cell_type": "markdown",
   "metadata": {},
   "source": [
    "# Q13:"
   ]
  },
  {
   "cell_type": "markdown",
   "metadata": {},
   "source": [
    "Starts with your last question 12 , loop through the dictionary’s keys and values.\n",
    "When you’re sure that your loop works, add five more Python terms to your\n",
    "dictionary . When you run your program again, these new words and meanings\n",
    "should automatically be included in the output."
   ]
  },
  {
   "cell_type": "code",
   "execution_count": 62,
   "metadata": {},
   "outputs": [
    {
     "name": "stdout",
     "output_type": "stream",
     "text": [
      "name : shakeel\n",
      "l_name : khalid\n",
      "age : 24\n",
      "city : karachi\n"
     ]
    }
   ],
   "source": [
    "for k,v in data.items():\n",
    "    print(k , \":\", v)"
   ]
  },
  {
   "cell_type": "code",
   "execution_count": 66,
   "metadata": {},
   "outputs": [
    {
     "name": "stdout",
     "output_type": "stream",
     "text": [
      "name : shakeel\n",
      "l_name : khalid\n",
      "age : 24\n",
      "city : karachi\n",
      "uni : ssuet\n",
      "location : gulshan\n",
      "field : cs\n",
      "semester : 6\n",
      "religion : islam\n"
     ]
    }
   ],
   "source": [
    "data={\"uni\":\"ssuet\",\"location\":\"gulshan\",\"field\":\"cs\",\"semester\":6,\"religion\":\"islam\"}\n",
    "for k,v in data.items():\n",
    "    print(k , \":\", v)\n"
   ]
  },
  {
   "cell_type": "markdown",
   "metadata": {},
   "source": [
    "# Q14:"
   ]
  },
  {
   "cell_type": "markdown",
   "metadata": {},
   "source": [
    "Make a dictionary containing three major rivers and the country\n",
    "each river runs through. One key-value pair might be 'nile': 'egypt'.\n",
    "    \n",
    "    \n",
    "•\t Use a loop to print a sentence about each river, such as The Nile runs\n",
    "through Egypt.\n",
    "\n",
    "NOTE: use upper case through keys and values."
   ]
  },
  {
   "cell_type": "code",
   "execution_count": 70,
   "metadata": {},
   "outputs": [
    {
     "name": "stdout",
     "output_type": "stream",
     "text": [
      "The NILE runs through EGYPT\n",
      "The INDUS runs through PUNJAB\n",
      "The NIGER runs through NIGERIA\n"
     ]
    }
   ],
   "source": [
    "river_name={\"nile\":\"egypt\",\"indus\":\"punjab\",\"niger\":\"nigeria\"}\n",
    "for k,v in river_name.items():\n",
    "    print(\"The \"+ k.upper() + \" runs through \"+ v.upper())"
   ]
  },
  {
   "cell_type": "markdown",
   "metadata": {},
   "source": [
    "# Q15:"
   ]
  },
  {
   "cell_type": "markdown",
   "metadata": {},
   "source": [
    "Make several dictionaries, where the name of each dictionary is the\n",
    "name of a pet. In each dictionary, include the kind of animal and the owner’s\n",
    "name. Store these dictionaries in a list called pets. Next, loop through your list\n",
    "and as you do print everything you know about each pet."
   ]
  },
  {
   "cell_type": "code",
   "execution_count": 73,
   "metadata": {},
   "outputs": [
    {
     "name": "stdout",
     "output_type": "stream",
     "text": [
      "fluffy is a  cat  of  shakeel\n",
      "cody is a  dog  of  yoza\n",
      "mithun is a  parrot  of  sharjeel\n"
     ]
    }
   ],
   "source": [
    "dict1={\"name\":\"fluffy\",\"kind\":\"cat\",\"owner\":\"shakeel\"}\n",
    "dict2={\"name\":\"cody\",\"kind\":\"dog\",\"owner\":\"yoza\"}\n",
    "dict3={\"name\":\"mithun\",\"kind\":\"parrot\",\"owner\":\"sharjeel\"}\n",
    "pets=[dict1,dict2,dict3]\n",
    "for i in pets:\n",
    "    print(i[\"name\"], \"is a \",i[\"kind\"], \" of \",i[\"owner\"])"
   ]
  }
 ],
 "metadata": {
  "kernelspec": {
   "display_name": "Python 3",
   "language": "python",
   "name": "python3"
  },
  "language_info": {
   "codemirror_mode": {
    "name": "ipython",
    "version": 3
   },
   "file_extension": ".py",
   "mimetype": "text/x-python",
   "name": "python",
   "nbconvert_exporter": "python",
   "pygments_lexer": "ipython3",
   "version": "3.7.3"
  }
 },
 "nbformat": 4,
 "nbformat_minor": 2
}
